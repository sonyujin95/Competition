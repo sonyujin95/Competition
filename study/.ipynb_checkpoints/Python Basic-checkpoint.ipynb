{
 "cells": [
  {
   "cell_type": "markdown",
   "metadata": {},
   "source": [
    "## Python 기초공부\n",
    "출처 : https://dacon.io/competitions/open/235698/talkboard/?page=4&dtype=recent&ptype=pub&qtype=%20"
   ]
  },
  {
   "cell_type": "code",
   "execution_count": 1,
   "metadata": {},
   "outputs": [
    {
     "name": "stdout",
     "output_type": "stream",
     "text": [
      "오늘의 파이썬\n"
     ]
    }
   ],
   "source": [
    "# 5/18 오늘의 파이썬 출력\n",
    "print(\"오늘의 파이썬\")"
   ]
  },
  {
   "cell_type": "code",
   "execution_count": 6,
   "metadata": {},
   "outputs": [
    {
     "name": "stdout",
     "output_type": "stream",
     "text": [
      "\"함께해요 오늘의 파이썬\"\n",
      "\"함께해요 오늘의 파이썬\"\n"
     ]
    }
   ],
   "source": [
    "# 5/19 \"함께해요 오늘의 파이썬\" 출력(2가지)\n",
    "print('\"함께해요 오늘의 파이썬\"')\n",
    "print(\"\\\"함께해요 오늘의 파이썬\\\"\")"
   ]
  },
  {
   "cell_type": "code",
   "execution_count": 7,
   "metadata": {},
   "outputs": [
    {
     "name": "stdout",
     "output_type": "stream",
     "text": [
      "함께해요오늘의파이썬\n"
     ]
    }
   ],
   "source": [
    "# 5/20 함께해요 오늘의 파이썬 을 출력하는 파이썬 코드가 아닌것은?\n",
    "print('함께해요'+'오늘의'+'파이썬')"
   ]
  },
  {
   "cell_type": "code",
   "execution_count": 10,
   "metadata": {},
   "outputs": [
    {
     "name": "stdout",
     "output_type": "stream",
     "text": [
      "오늘의 파이썬\n"
     ]
    }
   ],
   "source": [
    "# 5/21 print()함수를 여러개 작성하여 문자열을 출력할 때 각 문자열을 이어붙여서 출력하는 방법은?\n",
    "print('오늘의', end=' ')\n",
    "print('파이썬')"
   ]
  },
  {
   "cell_type": "code",
   "execution_count": 12,
   "metadata": {},
   "outputs": [
    {
     "name": "stdout",
     "output_type": "stream",
     "text": [
      "num : 1.235\n",
      "num : 1.235\n",
      "num : 1.235\n"
     ]
    }
   ],
   "source": [
    "# 5/22 파이썬에서 소수점 이하 3자리까지 출력하는 방법이 아닌것은?\n",
    "num = 1.23456\n",
    "print(\"num :\", \"%.3f\"%num)\n",
    "print(\"num :\", round(num, 3))\n",
    "print(\"num :\", \"{:.3f}\".format(num))   # 3은 나타내고 싶은 소수 자릿수, f는 float형으로 출력의미\n",
    "# print(\"num :\", \"{.3f}\".format(num))"
   ]
  },
  {
   "cell_type": "code",
   "execution_count": 22,
   "metadata": {},
   "outputs": [
    {
     "name": "stdout",
     "output_type": "stream",
     "text": [
      "오늘의 [   파이썬    ]\n",
      "오늘의 [   파이썬    ]\n"
     ]
    }
   ],
   "source": [
    "# 5/23 파이썬에서 format 함수를 사용하여 문자열을 가운데 정렬하여 출력하는 방법은?\n",
    "print(\"오늘의\", \"{:^3}\".format(\"[   파이썬    ]\"))\n",
    "print(\"오늘의\", \"[{:^10}]\".format(\"파이썬\"))"
   ]
  },
  {
   "cell_type": "code",
   "execution_count": 23,
   "metadata": {
    "scrolled": true
   },
   "outputs": [
    {
     "name": "stdout",
     "output_type": "stream",
     "text": [
      "숫자를 입력하세요 : 5\n",
      "홀수입니다\n"
     ]
    }
   ],
   "source": [
    "# 5/24 파이썬의 if else 제어문을 활용하여 number의 홀짝 여부를 출력하시오.\n",
    "a = int(input(\"숫자를 입력하세요 : \"))\n",
    "if a % 2 == 0:\n",
    "    print(\"짝수입니다\")\n",
    "else:\n",
    "    print(\"홀수입니다\")"
   ]
  },
  {
   "cell_type": "code",
   "execution_count": 25,
   "metadata": {},
   "outputs": [
    {
     "name": "stdout",
     "output_type": "stream",
     "text": [
      "점수를 입력하세요 : 86\n",
      "B\n"
     ]
    }
   ],
   "source": [
    "# 5/25 파이썬의 if elif else 제어문을 활용하여 다음에 score에 따라서 입력된 점수의 등급을 출력하시오\n",
    "score = int(input(\"점수를 입력하세요 : \"))\n",
    "if score >= 90:\n",
    "    print(\"A\")\n",
    "elif 80 <= score and score < 90:\n",
    "    print(\"B\")\n",
    "elif 70 <= score and score < 80:\n",
    "    print(\"C\")\n",
    "elif 60 <= score and score < 70:\n",
    "    print(\"D\")\n",
    "else:\n",
    "    print(\"F\")"
   ]
  },
  {
   "cell_type": "code",
   "execution_count": 27,
   "metadata": {},
   "outputs": [
    {
     "name": "stdout",
     "output_type": "stream",
     "text": [
      "점수를 입력하세요 : 88\n",
      "B\n"
     ]
    }
   ],
   "source": [
    "# 5/25 파이썬의 if elif else 제어문을 활용하여 다음에 score에 따라서 입력된 점수의 등급을 출력하시오\n",
    "score = int(input(\"점수를 입력하세요 : \"))\n",
    "if score >= 90:\n",
    "    print(\"A\")\n",
    "elif score >= 80:\n",
    "    print(\"B\")\n",
    "elif score >= 70:\n",
    "    print(\"C\")\n",
    "elif score >= 60:\n",
    "    print(\"D\")\n",
    "else:\n",
    "    print(\"F\")"
   ]
  },
  {
   "cell_type": "code",
   "execution_count": 29,
   "metadata": {},
   "outputs": [
    {
     "name": "stdout",
     "output_type": "stream",
     "text": [
      "점수를 입력하세요 : 100\n",
      "A\n",
      "Good Job\n"
     ]
    }
   ],
   "source": [
    "# 5/26 위의 문제에서 95점 이상일때는 Good Job 도 함께 출력\n",
    "score = int(input(\"점수를 입력하세요 : \"))\n",
    "if score >= 90:\n",
    "    print(\"A\")\n",
    "    if score >= 95:\n",
    "        print(\"Good Job\")\n",
    "elif score >= 80:\n",
    "    print(\"B\")\n",
    "elif score >= 70:\n",
    "    print(\"C\")\n",
    "elif score >= 60:\n",
    "    print(\"D\")\n",
    "else:\n",
    "    print(\"F\")"
   ]
  },
  {
   "cell_type": "code",
   "execution_count": 30,
   "metadata": {},
   "outputs": [
    {
     "name": "stdout",
     "output_type": "stream",
     "text": [
      "0\n",
      "1\n",
      "2\n",
      "3\n",
      "4\n",
      "5\n"
     ]
    }
   ],
   "source": [
    "# 5/27 while문을 활용해서 a가 5이하라면, a를 출력하고 a 변수에 1을 더하는 반복문을 작성하세요.\n",
    "    # a의 초기값은 0 입니다.\n",
    "a = 0\n",
    "while a <= 5:\n",
    "    print(a)\n",
    "    a += 1\n"
   ]
  },
  {
   "cell_type": "code",
   "execution_count": 32,
   "metadata": {},
   "outputs": [
    {
     "name": "stdout",
     "output_type": "stream",
     "text": [
      "1 2 3 4 5 "
     ]
    }
   ],
   "source": [
    "# 5/28 for문을 활용해서 1부터 5까지 출력하시오\n",
    "\n",
    "for i in range(1, 6):\n",
    "    print(i, end=\" \")"
   ]
  },
  {
   "cell_type": "code",
   "execution_count": 34,
   "metadata": {},
   "outputs": [
    {
     "name": "stdout",
     "output_type": "stream",
     "text": [
      "[2, 4, 6, 8, 10]\n"
     ]
    }
   ],
   "source": [
    "# 5/29 반복문과 조건문만 활용하여 1~10 까지 숫자 중 짝수만 담긴 리스트 a를 출력하시오\n",
    "a = []\n",
    "for i in range(1, 11):\n",
    "    if i % 2 == 0:\n",
    "        a.append(i)\n",
    "print(a)"
   ]
  },
  {
   "cell_type": "code",
   "execution_count": 40,
   "metadata": {},
   "outputs": [
    {
     "name": "stdout",
     "output_type": "stream",
     "text": [
      "0 샐러드\n",
      "1 햄버거\n",
      "2 삼각김밥\n",
      "--------------\n",
      "0 샐러드\n",
      "1 햄버거\n",
      "2 삼각김밥\n"
     ]
    }
   ],
   "source": [
    "# 5/30 아래의 리스트에서 for문과 enumerate()를 활용하여 인덱스 번호와 요소들을 차례로 출력하시오\n",
    "menus = ['샐러드', '햄버거', '삼각김밥']\n",
    "for i in list(enumerate(menus)):\n",
    "    print(i[0], i[1])\n",
    "    \n",
    "print(\"--------------\")\n",
    "for i, menu in enumerate(menus):\n",
    "    print(i, menu)"
   ]
  },
  {
   "cell_type": "code",
   "execution_count": null,
   "metadata": {},
   "outputs": [],
   "source": []
  }
 ],
 "metadata": {
  "kernelspec": {
   "display_name": "Python 3",
   "language": "python",
   "name": "python3"
  },
  "language_info": {
   "codemirror_mode": {
    "name": "ipython",
    "version": 3
   },
   "file_extension": ".py",
   "mimetype": "text/x-python",
   "name": "python",
   "nbconvert_exporter": "python",
   "pygments_lexer": "ipython3",
   "version": "3.8.5"
  }
 },
 "nbformat": 4,
 "nbformat_minor": 4
}
